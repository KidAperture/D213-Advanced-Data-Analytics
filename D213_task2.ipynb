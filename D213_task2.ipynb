{
 "cells": [
  {
   "cell_type": "markdown",
   "id": "acbf9576",
   "metadata": {},
   "source": [
    "## Research Question"
   ]
  },
  {
   "cell_type": "markdown",
   "id": "f5a6815c",
   "metadata": {},
   "source": [
    "The research question that we hope to answer is if we can determine customer sentiment from the wording of reviews. By doing this we hope to be able to guage if a customer likes or dislikes a product.\n",
    "\n",
    "Using natural language processing, our goal is to analyize the wording within customer reviews to predict if a customer has a positive or negative feeling about a product.\n",
    "\n",
    "Our analysis will be conducted using TensorFlow neural networks"
   ]
  },
  {
   "cell_type": "markdown",
   "id": "f67b8468",
   "metadata": {},
   "source": [
    "## Data Prep"
   ]
  },
  {
   "cell_type": "code",
   "execution_count": 1,
   "id": "cd502a0d",
   "metadata": {},
   "outputs": [
    {
     "name": "stderr",
     "output_type": "stream",
     "text": [
      "Using TensorFlow backend.\n"
     ]
    }
   ],
   "source": [
    "# Package importing\n",
    "import json\n",
    "import gzip\n",
    "import numpy as np\n",
    "import pandas as pd\n",
    "import matplotlib.pyplot as plt\n",
    "import matplotlib.image as mpimg\n",
    "%matplotlib inline\n",
    "import seaborn as sns\n",
    "import tensorflow as tf\n",
    "from tensorflow.keras.preprocessing.text import Tokenizer\n",
    "from tensorflow.keras.preprocessing.sequence import pad_sequences\n",
    "from keras import callbacks"
   ]
  },
  {
   "cell_type": "code",
   "execution_count": 2,
   "id": "91431f6c",
   "metadata": {},
   "outputs": [],
   "source": [
    "# Parse for json gzip file\n",
    "def parse(path):\n",
    "  g = gzip.open(path, 'rb')\n",
    "  for l in g:\n",
    "    yield json.loads(l)"
   ]
  },
  {
   "cell_type": "code",
   "execution_count": 3,
   "id": "cff15aee",
   "metadata": {},
   "outputs": [],
   "source": [
    "# Turn our json file into data frame\n",
    "def getDF(path):\n",
    "  i = 0\n",
    "  df = {}\n",
    "  for d in parse(path):\n",
    "    df[i] = d\n",
    "    i += 1\n",
    "  return pd.DataFrame.from_dict(df, orient='index')"
   ]
  },
  {
   "cell_type": "code",
   "execution_count": 4,
   "id": "74dab1ed",
   "metadata": {},
   "outputs": [
    {
     "data": {
      "text/html": [
       "<div>\n",
       "<style scoped>\n",
       "    .dataframe tbody tr th:only-of-type {\n",
       "        vertical-align: middle;\n",
       "    }\n",
       "\n",
       "    .dataframe tbody tr th {\n",
       "        vertical-align: top;\n",
       "    }\n",
       "\n",
       "    .dataframe thead th {\n",
       "        text-align: right;\n",
       "    }\n",
       "</style>\n",
       "<table border=\"1\" class=\"dataframe\">\n",
       "  <thead>\n",
       "    <tr style=\"text-align: right;\">\n",
       "      <th></th>\n",
       "      <th>overall</th>\n",
       "      <th>verified</th>\n",
       "      <th>reviewTime</th>\n",
       "      <th>reviewerID</th>\n",
       "      <th>asin</th>\n",
       "      <th>style</th>\n",
       "      <th>reviewerName</th>\n",
       "      <th>reviewText</th>\n",
       "      <th>summary</th>\n",
       "      <th>unixReviewTime</th>\n",
       "      <th>vote</th>\n",
       "      <th>image</th>\n",
       "    </tr>\n",
       "  </thead>\n",
       "  <tbody>\n",
       "    <tr>\n",
       "      <th>0</th>\n",
       "      <td>5.0</td>\n",
       "      <td>True</td>\n",
       "      <td>01 5, 2018</td>\n",
       "      <td>A2HOI48JK8838M</td>\n",
       "      <td>B00004U9V2</td>\n",
       "      <td>{'Size:': ' 0.9 oz.'}</td>\n",
       "      <td>DB</td>\n",
       "      <td>This handcream has a beautiful fragrance. It d...</td>\n",
       "      <td>Beautiful Fragrance</td>\n",
       "      <td>1515110400</td>\n",
       "      <td>NaN</td>\n",
       "      <td>NaN</td>\n",
       "    </tr>\n",
       "    <tr>\n",
       "      <th>1</th>\n",
       "      <td>5.0</td>\n",
       "      <td>True</td>\n",
       "      <td>04 5, 2017</td>\n",
       "      <td>A1YIPEY7HX73S7</td>\n",
       "      <td>B00004U9V2</td>\n",
       "      <td>{'Size:': ' 3.5 oz.'}</td>\n",
       "      <td>Ajaey</td>\n",
       "      <td>wonderful hand lotion, for seriously dry skin,...</td>\n",
       "      <td>wonderful hand lotion</td>\n",
       "      <td>1491350400</td>\n",
       "      <td>NaN</td>\n",
       "      <td>NaN</td>\n",
       "    </tr>\n",
       "    <tr>\n",
       "      <th>2</th>\n",
       "      <td>5.0</td>\n",
       "      <td>True</td>\n",
       "      <td>03 27, 2017</td>\n",
       "      <td>A2QCGHIJ2TCLVP</td>\n",
       "      <td>B00004U9V2</td>\n",
       "      <td>{'Size:': ' 250 g'}</td>\n",
       "      <td>D. Jones</td>\n",
       "      <td>Best hand cream around.  Silky, thick, soaks i...</td>\n",
       "      <td>Best hand cream around</td>\n",
       "      <td>1490572800</td>\n",
       "      <td>NaN</td>\n",
       "      <td>NaN</td>\n",
       "    </tr>\n",
       "    <tr>\n",
       "      <th>3</th>\n",
       "      <td>5.0</td>\n",
       "      <td>True</td>\n",
       "      <td>03 20, 2017</td>\n",
       "      <td>A2R4UNHFJBA6PY</td>\n",
       "      <td>B00004U9V2</td>\n",
       "      <td>{'Size:': ' 3.5 oz.'}</td>\n",
       "      <td>Amazon Customer</td>\n",
       "      <td>Thanks!!</td>\n",
       "      <td>Five Stars</td>\n",
       "      <td>1489968000</td>\n",
       "      <td>NaN</td>\n",
       "      <td>NaN</td>\n",
       "    </tr>\n",
       "    <tr>\n",
       "      <th>4</th>\n",
       "      <td>5.0</td>\n",
       "      <td>True</td>\n",
       "      <td>02 28, 2017</td>\n",
       "      <td>A2QCGHIJ2TCLVP</td>\n",
       "      <td>B00004U9V2</td>\n",
       "      <td>{'Size:': ' 0.9 oz.'}</td>\n",
       "      <td>D. Jones</td>\n",
       "      <td>Great hand lotion.  Soaks right in and leaves ...</td>\n",
       "      <td>Great hand lotion!</td>\n",
       "      <td>1488240000</td>\n",
       "      <td>NaN</td>\n",
       "      <td>NaN</td>\n",
       "    </tr>\n",
       "  </tbody>\n",
       "</table>\n",
       "</div>"
      ],
      "text/plain": [
       "   overall  verified   reviewTime      reviewerID        asin  \\\n",
       "0      5.0      True   01 5, 2018  A2HOI48JK8838M  B00004U9V2   \n",
       "1      5.0      True   04 5, 2017  A1YIPEY7HX73S7  B00004U9V2   \n",
       "2      5.0      True  03 27, 2017  A2QCGHIJ2TCLVP  B00004U9V2   \n",
       "3      5.0      True  03 20, 2017  A2R4UNHFJBA6PY  B00004U9V2   \n",
       "4      5.0      True  02 28, 2017  A2QCGHIJ2TCLVP  B00004U9V2   \n",
       "\n",
       "                   style     reviewerName  \\\n",
       "0  {'Size:': ' 0.9 oz.'}               DB   \n",
       "1  {'Size:': ' 3.5 oz.'}            Ajaey   \n",
       "2    {'Size:': ' 250 g'}         D. Jones   \n",
       "3  {'Size:': ' 3.5 oz.'}  Amazon Customer   \n",
       "4  {'Size:': ' 0.9 oz.'}         D. Jones   \n",
       "\n",
       "                                          reviewText                 summary  \\\n",
       "0  This handcream has a beautiful fragrance. It d...     Beautiful Fragrance   \n",
       "1  wonderful hand lotion, for seriously dry skin,...   wonderful hand lotion   \n",
       "2  Best hand cream around.  Silky, thick, soaks i...  Best hand cream around   \n",
       "3                                           Thanks!!              Five Stars   \n",
       "4  Great hand lotion.  Soaks right in and leaves ...      Great hand lotion!   \n",
       "\n",
       "   unixReviewTime vote image  \n",
       "0      1515110400  NaN   NaN  \n",
       "1      1491350400  NaN   NaN  \n",
       "2      1490572800  NaN   NaN  \n",
       "3      1489968000  NaN   NaN  \n",
       "4      1488240000  NaN   NaN  "
      ]
     },
     "execution_count": 4,
     "metadata": {},
     "output_type": "execute_result"
    }
   ],
   "source": [
    "# Importing data\n",
    "df = getDF('Luxury_Beauty_5.json.gz')\n",
    "df.head()"
   ]
  },
  {
   "cell_type": "markdown",
   "id": "dd07e777",
   "metadata": {},
   "source": [
    "Looking at our data frame, we want to select the overall score and the review text columns."
   ]
  },
  {
   "cell_type": "code",
   "execution_count": 5,
   "id": "e8d2087f",
   "metadata": {},
   "outputs": [
    {
     "data": {
      "text/html": [
       "<div>\n",
       "<style scoped>\n",
       "    .dataframe tbody tr th:only-of-type {\n",
       "        vertical-align: middle;\n",
       "    }\n",
       "\n",
       "    .dataframe tbody tr th {\n",
       "        vertical-align: top;\n",
       "    }\n",
       "\n",
       "    .dataframe thead th {\n",
       "        text-align: right;\n",
       "    }\n",
       "</style>\n",
       "<table border=\"1\" class=\"dataframe\">\n",
       "  <thead>\n",
       "    <tr style=\"text-align: right;\">\n",
       "      <th></th>\n",
       "      <th>overall</th>\n",
       "      <th>reviewText</th>\n",
       "    </tr>\n",
       "  </thead>\n",
       "  <tbody>\n",
       "    <tr>\n",
       "      <th>0</th>\n",
       "      <td>5.0</td>\n",
       "      <td>This handcream has a beautiful fragrance. It d...</td>\n",
       "    </tr>\n",
       "    <tr>\n",
       "      <th>1</th>\n",
       "      <td>5.0</td>\n",
       "      <td>wonderful hand lotion, for seriously dry skin,...</td>\n",
       "    </tr>\n",
       "    <tr>\n",
       "      <th>2</th>\n",
       "      <td>5.0</td>\n",
       "      <td>Best hand cream around.  Silky, thick, soaks i...</td>\n",
       "    </tr>\n",
       "    <tr>\n",
       "      <th>3</th>\n",
       "      <td>5.0</td>\n",
       "      <td>Thanks!!</td>\n",
       "    </tr>\n",
       "    <tr>\n",
       "      <th>4</th>\n",
       "      <td>5.0</td>\n",
       "      <td>Great hand lotion.  Soaks right in and leaves ...</td>\n",
       "    </tr>\n",
       "  </tbody>\n",
       "</table>\n",
       "</div>"
      ],
      "text/plain": [
       "   overall                                         reviewText\n",
       "0      5.0  This handcream has a beautiful fragrance. It d...\n",
       "1      5.0  wonderful hand lotion, for seriously dry skin,...\n",
       "2      5.0  Best hand cream around.  Silky, thick, soaks i...\n",
       "3      5.0                                           Thanks!!\n",
       "4      5.0  Great hand lotion.  Soaks right in and leaves ..."
      ]
     },
     "execution_count": 5,
     "metadata": {},
     "output_type": "execute_result"
    }
   ],
   "source": [
    "# New data frame with out selected columns\n",
    "df = df[['overall','reviewText']]\n",
    "df.head()"
   ]
  },
  {
   "cell_type": "code",
   "execution_count": 6,
   "id": "f0ebce26",
   "metadata": {},
   "outputs": [
    {
     "data": {
      "text/html": [
       "<div>\n",
       "<style scoped>\n",
       "    .dataframe tbody tr th:only-of-type {\n",
       "        vertical-align: middle;\n",
       "    }\n",
       "\n",
       "    .dataframe tbody tr th {\n",
       "        vertical-align: top;\n",
       "    }\n",
       "\n",
       "    .dataframe thead th {\n",
       "        text-align: right;\n",
       "    }\n",
       "</style>\n",
       "<table border=\"1\" class=\"dataframe\">\n",
       "  <thead>\n",
       "    <tr style=\"text-align: right;\">\n",
       "      <th></th>\n",
       "      <th>Score</th>\n",
       "      <th>Review</th>\n",
       "    </tr>\n",
       "  </thead>\n",
       "  <tbody>\n",
       "    <tr>\n",
       "      <th>0</th>\n",
       "      <td>5.0</td>\n",
       "      <td>This handcream has a beautiful fragrance. It d...</td>\n",
       "    </tr>\n",
       "    <tr>\n",
       "      <th>1</th>\n",
       "      <td>5.0</td>\n",
       "      <td>wonderful hand lotion, for seriously dry skin,...</td>\n",
       "    </tr>\n",
       "    <tr>\n",
       "      <th>2</th>\n",
       "      <td>5.0</td>\n",
       "      <td>Best hand cream around.  Silky, thick, soaks i...</td>\n",
       "    </tr>\n",
       "    <tr>\n",
       "      <th>3</th>\n",
       "      <td>5.0</td>\n",
       "      <td>Thanks!!</td>\n",
       "    </tr>\n",
       "    <tr>\n",
       "      <th>4</th>\n",
       "      <td>5.0</td>\n",
       "      <td>Great hand lotion.  Soaks right in and leaves ...</td>\n",
       "    </tr>\n",
       "  </tbody>\n",
       "</table>\n",
       "</div>"
      ],
      "text/plain": [
       "   Score                                             Review\n",
       "0    5.0  This handcream has a beautiful fragrance. It d...\n",
       "1    5.0  wonderful hand lotion, for seriously dry skin,...\n",
       "2    5.0  Best hand cream around.  Silky, thick, soaks i...\n",
       "3    5.0                                           Thanks!!\n",
       "4    5.0  Great hand lotion.  Soaks right in and leaves ..."
      ]
     },
     "execution_count": 6,
     "metadata": {},
     "output_type": "execute_result"
    }
   ],
   "source": [
    "# Changing column names\n",
    "df = df.rename(columns={'overall': 'Score', 'reviewText': 'Review'})\n",
    "df.head()"
   ]
  },
  {
   "cell_type": "code",
   "execution_count": 7,
   "id": "a0c7771a",
   "metadata": {},
   "outputs": [
    {
     "data": {
      "text/plain": [
       "Score     False\n",
       "Review     True\n",
       "dtype: bool"
      ]
     },
     "execution_count": 7,
     "metadata": {},
     "output_type": "execute_result"
    }
   ],
   "source": [
    "# Check for any nulls\n",
    "df.isna().any()"
   ]
  },
  {
   "cell_type": "code",
   "execution_count": 8,
   "id": "9c28914f",
   "metadata": {},
   "outputs": [],
   "source": [
    "# Remove our nulls\n",
    "df = df.dropna(subset=['Review'])"
   ]
  },
  {
   "cell_type": "code",
   "execution_count": 9,
   "id": "3f00430f",
   "metadata": {},
   "outputs": [
    {
     "data": {
      "text/plain": [
       "Score     False\n",
       "Review    False\n",
       "dtype: bool"
      ]
     },
     "execution_count": 9,
     "metadata": {},
     "output_type": "execute_result"
    }
   ],
   "source": [
    "# Check for any nulls again\n",
    "df.isna().any()"
   ]
  },
  {
   "cell_type": "markdown",
   "id": "47eaa667",
   "metadata": {},
   "source": [
    "We can see our dataframe no longer contains any nulls"
   ]
  },
  {
   "cell_type": "code",
   "execution_count": 10,
   "id": "04136868",
   "metadata": {},
   "outputs": [
    {
     "data": {
      "text/html": [
       "<div>\n",
       "<style scoped>\n",
       "    .dataframe tbody tr th:only-of-type {\n",
       "        vertical-align: middle;\n",
       "    }\n",
       "\n",
       "    .dataframe tbody tr th {\n",
       "        vertical-align: top;\n",
       "    }\n",
       "\n",
       "    .dataframe thead th {\n",
       "        text-align: right;\n",
       "    }\n",
       "</style>\n",
       "<table border=\"1\" class=\"dataframe\">\n",
       "  <thead>\n",
       "    <tr style=\"text-align: right;\">\n",
       "      <th></th>\n",
       "      <th>Score</th>\n",
       "      <th>Review</th>\n",
       "      <th>Sentiments</th>\n",
       "    </tr>\n",
       "  </thead>\n",
       "  <tbody>\n",
       "    <tr>\n",
       "      <th>0</th>\n",
       "      <td>5.0</td>\n",
       "      <td>This handcream has a beautiful fragrance. It d...</td>\n",
       "      <td>1</td>\n",
       "    </tr>\n",
       "    <tr>\n",
       "      <th>1</th>\n",
       "      <td>5.0</td>\n",
       "      <td>wonderful hand lotion, for seriously dry skin,...</td>\n",
       "      <td>1</td>\n",
       "    </tr>\n",
       "    <tr>\n",
       "      <th>2</th>\n",
       "      <td>5.0</td>\n",
       "      <td>Best hand cream around.  Silky, thick, soaks i...</td>\n",
       "      <td>1</td>\n",
       "    </tr>\n",
       "    <tr>\n",
       "      <th>3</th>\n",
       "      <td>5.0</td>\n",
       "      <td>Thanks!!</td>\n",
       "      <td>1</td>\n",
       "    </tr>\n",
       "    <tr>\n",
       "      <th>4</th>\n",
       "      <td>5.0</td>\n",
       "      <td>Great hand lotion.  Soaks right in and leaves ...</td>\n",
       "      <td>1</td>\n",
       "    </tr>\n",
       "  </tbody>\n",
       "</table>\n",
       "</div>"
      ],
      "text/plain": [
       "   Score                                             Review  Sentiments\n",
       "0    5.0  This handcream has a beautiful fragrance. It d...           1\n",
       "1    5.0  wonderful hand lotion, for seriously dry skin,...           1\n",
       "2    5.0  Best hand cream around.  Silky, thick, soaks i...           1\n",
       "3    5.0                                           Thanks!!           1\n",
       "4    5.0  Great hand lotion.  Soaks right in and leaves ...           1"
      ]
     },
     "execution_count": 10,
     "metadata": {},
     "output_type": "execute_result"
    }
   ],
   "source": [
    "# Creating sentiments column to gauge review 0-2 negative, 3-5 positive\n",
    "# 0 = negative, 1 = positive\n",
    "df['Sentiments'] = df.Score.apply(lambda x: 0 if x in [1, 2] else 1)\n",
    "df.head()"
   ]
  },
  {
   "cell_type": "code",
   "execution_count": 11,
   "id": "3c9ac473",
   "metadata": {},
   "outputs": [],
   "source": [
    "# Selecting our special characters\n",
    "unique_char = [\"!\",'\"',\"#\",\"%\",\"&\",\"'\",\"(\",\")\",\n",
    " \"*\",\"+\",\",\",\"-\",\".\",\"/\",\":\",\";\",\"<\",\n",
    " \"=\",\">\",\"?\",\"@\",\"[\",\"\\\\\",\"]\",\"^\",\"_\",\n",
    " \"`\",\"{\",\"|\",\"}\",\"~\",\"–\"]"
   ]
  },
  {
   "cell_type": "code",
   "execution_count": 12,
   "id": "498559e4",
   "metadata": {},
   "outputs": [
    {
     "data": {
      "text/html": [
       "<div>\n",
       "<style scoped>\n",
       "    .dataframe tbody tr th:only-of-type {\n",
       "        vertical-align: middle;\n",
       "    }\n",
       "\n",
       "    .dataframe tbody tr th {\n",
       "        vertical-align: top;\n",
       "    }\n",
       "\n",
       "    .dataframe thead th {\n",
       "        text-align: right;\n",
       "    }\n",
       "</style>\n",
       "<table border=\"1\" class=\"dataframe\">\n",
       "  <thead>\n",
       "    <tr style=\"text-align: right;\">\n",
       "      <th></th>\n",
       "      <th>Score</th>\n",
       "      <th>Review</th>\n",
       "      <th>Sentiments</th>\n",
       "    </tr>\n",
       "  </thead>\n",
       "  <tbody>\n",
       "    <tr>\n",
       "      <th>0</th>\n",
       "      <td>5.0</td>\n",
       "      <td>this handcream has a beautiful fragrance  it d...</td>\n",
       "      <td>1</td>\n",
       "    </tr>\n",
       "    <tr>\n",
       "      <th>1</th>\n",
       "      <td>5.0</td>\n",
       "      <td>wonderful hand lotion  for seriously dry skin ...</td>\n",
       "      <td>1</td>\n",
       "    </tr>\n",
       "    <tr>\n",
       "      <th>2</th>\n",
       "      <td>5.0</td>\n",
       "      <td>best hand cream around   silky  thick  soaks i...</td>\n",
       "      <td>1</td>\n",
       "    </tr>\n",
       "    <tr>\n",
       "      <th>3</th>\n",
       "      <td>5.0</td>\n",
       "      <td>thanks</td>\n",
       "      <td>1</td>\n",
       "    </tr>\n",
       "    <tr>\n",
       "      <th>4</th>\n",
       "      <td>5.0</td>\n",
       "      <td>great hand lotion   soaks right in and leaves ...</td>\n",
       "      <td>1</td>\n",
       "    </tr>\n",
       "  </tbody>\n",
       "</table>\n",
       "</div>"
      ],
      "text/plain": [
       "   Score                                             Review  Sentiments\n",
       "0    5.0  this handcream has a beautiful fragrance  it d...           1\n",
       "1    5.0  wonderful hand lotion  for seriously dry skin ...           1\n",
       "2    5.0  best hand cream around   silky  thick  soaks i...           1\n",
       "3    5.0                                           thanks             1\n",
       "4    5.0  great hand lotion   soaks right in and leaves ...           1"
      ]
     },
     "execution_count": 12,
     "metadata": {},
     "output_type": "execute_result"
    }
   ],
   "source": [
    "# replacing our special characters\n",
    "for char in unique_char:\n",
    " df['Review'] = df['Review'].str.replace(char, ' ',regex=True)\n",
    "\n",
    "# Replacing all capitals with lowercase\n",
    "df['Review'] = df['Review'].str.lower()\n",
    "\n",
    "df.head()"
   ]
  },
  {
   "cell_type": "code",
   "execution_count": 13,
   "id": "a70c3e00",
   "metadata": {},
   "outputs": [],
   "source": [
    "# exporting our prepped data\n",
    "df.to_csv('cleaned_task2.csv', index = False)"
   ]
  },
  {
   "cell_type": "markdown",
   "id": "75cbc1ab",
   "metadata": {},
   "source": [
    "To continue our analysis, we must tokenize the stings of words. This will convert words in the sentence string into their own string. By doing this we will be able to run analysis on each word, instead of the main string. "
   ]
  },
  {
   "cell_type": "code",
   "execution_count": 14,
   "id": "ee1ff8f8",
   "metadata": {},
   "outputs": [],
   "source": [
    "# Splitting data into 80/20 training and testing\n",
    "split = round(len(df)*0.8)\n",
    "train_reviews = df['Review'][:split]\n",
    "train_label = df['Sentiments'][:split]\n",
    "test_reviews = df['Review'][split:]\n",
    "test_label = df['Sentiments'][split:]"
   ]
  },
  {
   "cell_type": "code",
   "execution_count": 15,
   "id": "f17fe92f",
   "metadata": {},
   "outputs": [],
   "source": [
    "# Setting up the split after tokenization\n",
    "training_sentences = []\n",
    "training_labels = []\n",
    "testing_sentences = []\n",
    "testing_labels = []\n",
    "for row in train_reviews:\n",
    "    training_sentences.append(str(row))\n",
    "for row in train_label:\n",
    "    training_labels.append(row)\n",
    "for row in test_reviews:\n",
    "    testing_sentences.append(str(row))\n",
    "for row in test_label:\n",
    "    testing_labels.append(row)"
   ]
  },
  {
   "cell_type": "code",
   "execution_count": 16,
   "id": "1f7f01b4",
   "metadata": {},
   "outputs": [],
   "source": [
    "# Training at 50000 words\n",
    "vocab_size = 50000\n",
    "# 16 dimensions\n",
    "embedding_dim = 16\n",
    "# Max length of 120 words per review\n",
    "max_length = 120\n",
    "# Truncating after 120 \n",
    "trunc_type = 'post'\n",
    "oov_tok = '<OOV>'\n",
    "# Padding after 120\n",
    "padding_type = 'post'"
   ]
  },
  {
   "cell_type": "code",
   "execution_count": 17,
   "id": "689fe742",
   "metadata": {},
   "outputs": [],
   "source": [
    "# Starting the tokenizer\n",
    "tokenizer = Tokenizer(num_words=vocab_size, oov_token=oov_tok)\n",
    "# Fitting the tokenizer\n",
    "tokenizer.fit_on_texts(training_sentences)\n",
    "# Getting our word index\n",
    "word_index = tokenizer.word_index"
   ]
  },
  {
   "cell_type": "code",
   "execution_count": 18,
   "id": "5368b17f",
   "metadata": {},
   "outputs": [],
   "source": [
    "# Setting sequences\n",
    "sequences = tokenizer.texts_to_sequences(training_sentences)\n",
    "# Setting padding\n",
    "padded = pad_sequences(sequences, maxlen=max_length, truncating=trunc_type)\n",
    "testing_sentences = tokenizer.texts_to_sequences(testing_sentences)\n",
    "testing_padded = pad_sequences(testing_sentences, maxlen=max_length)"
   ]
  },
  {
   "cell_type": "markdown",
   "id": "7ce6dc3f",
   "metadata": {},
   "source": [
    "## Network Architecture"
   ]
  },
  {
   "cell_type": "code",
   "execution_count": 19,
   "id": "386d9ff7",
   "metadata": {},
   "outputs": [],
   "source": [
    "# Creating model\n",
    "model = tf.keras.Sequential([\n",
    "    tf.keras.layers.Embedding(vocab_size, embedding_dim, input_length=max_length),\n",
    "    tf.keras.layers.GlobalAveragePooling1D(),\n",
    "    tf.keras.layers.Dense(10, activation='relu'),\n",
    "    tf.keras.layers.Dense(6, activation='relu'),\n",
    "    tf.keras.layers.Dense(1, activation='relu')\n",
    "])"
   ]
  },
  {
   "cell_type": "markdown",
   "id": "5fc4ac5d",
   "metadata": {},
   "source": [
    "Using TensorFlow, we can create our Keras model. Our embedding layer was previously set up with our chosen parameters. Our GlobalAveragePooling1D is set to output a 2D object and our third layer is set to relu activation with 10. The next two layers are set to 6 and 1 with relu activation respectively. By using relu, we are running linear activation, I am running this as we are working with binary 1 and 0 for our outputs. This will provide high accuracy with fewer tests needed to run.  "
   ]
  },
  {
   "cell_type": "code",
   "execution_count": 20,
   "id": "173f4b51",
   "metadata": {},
   "outputs": [],
   "source": [
    "# Compiling the model\n",
    "model.compile(loss='binary_crossentropy', optimizer='adam', metrics=['accuracy'])"
   ]
  },
  {
   "cell_type": "markdown",
   "id": "618dbc8a",
   "metadata": {},
   "source": [
    "Using binary_crossentropy for our analysis allows us to better analyze our binary output from our Keras model. Combining this loss function with the adam optimizer allows us to run a very efficient analysis with little requirement for extra memory. "
   ]
  },
  {
   "cell_type": "code",
   "execution_count": 21,
   "id": "86553ba6",
   "metadata": {},
   "outputs": [
    {
     "name": "stdout",
     "output_type": "stream",
     "text": [
      "Model: \"sequential\"\n",
      "_________________________________________________________________\n",
      "Layer (type)                 Output Shape              Param #   \n",
      "=================================================================\n",
      "embedding (Embedding)        (None, 120, 16)           800000    \n",
      "_________________________________________________________________\n",
      "global_average_pooling1d (Gl (None, 16)                0         \n",
      "_________________________________________________________________\n",
      "dense (Dense)                (None, 10)                170       \n",
      "_________________________________________________________________\n",
      "dense_1 (Dense)              (None, 6)                 66        \n",
      "_________________________________________________________________\n",
      "dense_2 (Dense)              (None, 1)                 7         \n",
      "=================================================================\n",
      "Total params: 800,243\n",
      "Trainable params: 800,243\n",
      "Non-trainable params: 0\n",
      "_________________________________________________________________\n"
     ]
    }
   ],
   "source": [
    "model.summary()"
   ]
  },
  {
   "cell_type": "code",
   "execution_count": 22,
   "id": "fae8b894",
   "metadata": {},
   "outputs": [],
   "source": [
    "# Training the model\n",
    "training_final = np.array(training_labels)\n",
    "testing_final = np.array(testing_labels)"
   ]
  },
  {
   "cell_type": "markdown",
   "id": "54492754",
   "metadata": {},
   "source": [
    "## Model Evaluation"
   ]
  },
  {
   "cell_type": "code",
   "execution_count": 23,
   "id": "56faad95",
   "metadata": {},
   "outputs": [
    {
     "name": "stdout",
     "output_type": "stream",
     "text": [
      "Train on 27412 samples, validate on 6853 samples\n",
      "Epoch 1/25\n",
      "27412/27412 [==============================] - 12s 449us/sample - loss: 0.7161 - accuracy: 0.7107 - val_loss: 0.2384 - val_accuracy: 0.9259\n",
      "Epoch 2/25\n",
      "27412/27412 [==============================] - 11s 392us/sample - loss: 0.1985 - accuracy: 0.9243 - val_loss: 0.2491 - val_accuracy: 0.9260\n",
      "Epoch 3/25\n",
      "27412/27412 [==============================] - 12s 450us/sample - loss: 0.1650 - accuracy: 0.9270 - val_loss: 0.2658 - val_accuracy: 0.9273\n",
      "Epoch 4/25\n",
      "27412/27412 [==============================] - 11s 419us/sample - loss: 0.1399 - accuracy: 0.9370 - val_loss: 0.3563 - val_accuracy: 0.9302\n",
      "Epoch 5/25\n",
      "27412/27412 [==============================] - 12s 428us/sample - loss: 0.1225 - accuracy: 0.9466 - val_loss: 0.3539 - val_accuracy: 0.9262\n",
      "Epoch 6/25\n",
      "27412/27412 [==============================] - 12s 427us/sample - loss: 0.0986 - accuracy: 0.9599 - val_loss: 0.4092 - val_accuracy: 0.9257\n",
      "Epoch 7/25\n",
      "27412/27412 [==============================] - 11s 412us/sample - loss: 0.0987 - accuracy: 0.9602 - val_loss: 0.4238 - val_accuracy: 0.9221\n",
      "Epoch 8/25\n",
      "27412/27412 [==============================] - 12s 433us/sample - loss: 0.0757 - accuracy: 0.9706 - val_loss: 0.4946 - val_accuracy: 0.9235\n",
      "Epoch 9/25\n",
      "27412/27412 [==============================] - 13s 479us/sample - loss: 0.1174 - accuracy: 0.9695 - val_loss: 0.4841 - val_accuracy: 0.9234\n",
      "Epoch 10/25\n",
      "27412/27412 [==============================] - 12s 450us/sample - loss: 0.1011 - accuracy: 0.9662 - val_loss: 0.6166 - val_accuracy: 0.9211\n",
      "Epoch 11/25\n",
      "27412/27412 [==============================] - 12s 421us/sample - loss: 0.0623 - accuracy: 0.9796 - val_loss: 0.6856 - val_accuracy: 0.9215\n",
      "Epoch 12/25\n",
      "27412/27412 [==============================] - 11s 401us/sample - loss: 0.0598 - accuracy: 0.9829 - val_loss: 0.7459 - val_accuracy: 0.9187\n",
      "Epoch 13/25\n",
      "27412/27412 [==============================] - 11s 418us/sample - loss: 0.0485 - accuracy: 0.9868 - val_loss: 0.7883 - val_accuracy: 0.9187\n",
      "Epoch 14/25\n",
      "27412/27412 [==============================] - 13s 477us/sample - loss: 0.0455 - accuracy: 0.9888 - val_loss: 0.8272 - val_accuracy: 0.9161\n",
      "Epoch 15/25\n",
      "27412/27412 [==============================] - 12s 426us/sample - loss: 0.6235 - accuracy: 0.9277 - val_loss: 0.6712 - val_accuracy: 0.9162\n",
      "Epoch 16/25\n",
      "27412/27412 [==============================] - 11s 412us/sample - loss: 0.0592 - accuracy: 0.9834 - val_loss: 0.7228 - val_accuracy: 0.9170\n",
      "Epoch 17/25\n",
      "27412/27412 [==============================] - 11s 412us/sample - loss: 0.0481 - accuracy: 0.9870 - val_loss: 0.8182 - val_accuracy: 0.9108\n",
      "Epoch 18/25\n",
      "27412/27412 [==============================] - 11s 405us/sample - loss: 0.0454 - accuracy: 0.9899 - val_loss: 0.8730 - val_accuracy: 0.9129\n",
      "Epoch 19/25\n",
      "27412/27412 [==============================] - 11s 400us/sample - loss: 0.0413 - accuracy: 0.9917 - val_loss: 0.9034 - val_accuracy: 0.9104\n",
      "Epoch 20/25\n",
      "27412/27412 [==============================] - 11s 405us/sample - loss: 0.3418 - accuracy: 0.9669 - val_loss: 0.7899 - val_accuracy: 0.9190\n",
      "Epoch 21/25\n",
      "27412/27412 [==============================] - 11s 403us/sample - loss: 0.0416 - accuracy: 0.9921 - val_loss: 0.8915 - val_accuracy: 0.9130\n",
      "Epoch 22/25\n",
      "27412/27412 [==============================] - 11s 403us/sample - loss: 0.0374 - accuracy: 0.9932 - val_loss: 0.9027 - val_accuracy: 0.9123\n",
      "Epoch 23/25\n",
      "27412/27412 [==============================] - 11s 410us/sample - loss: 0.0366 - accuracy: 0.9938 - val_loss: 0.9047 - val_accuracy: 0.9167\n",
      "Epoch 24/25\n",
      "27412/27412 [==============================] - 11s 396us/sample - loss: 0.0354 - accuracy: 0.9945 - val_loss: 0.9466 - val_accuracy: 0.9124\n",
      "Epoch 25/25\n",
      "27412/27412 [==============================] - 11s 395us/sample - loss: 0.0345 - accuracy: 0.9949 - val_loss: 1.0271 - val_accuracy: 0.9095\n"
     ]
    }
   ],
   "source": [
    "# Running the model for 25 epochs\n",
    "model1 = model.fit(padded, training_final, epochs=25, validation_data=(testing_padded,\n",
    "testing_final))"
   ]
  },
  {
   "cell_type": "code",
   "execution_count": 24,
   "id": "d4119f16",
   "metadata": {},
   "outputs": [
    {
     "name": "stdout",
     "output_type": "stream",
     "text": [
      "Train on 27412 samples, validate on 6853 samples\n",
      "Epoch 1/25\n",
      "27412/27412 [==============================] - 11s 399us/sample - loss: 0.0374 - accuracy: 0.9949 - val_loss: 1.0323 - val_accuracy: 0.9095\n",
      "Epoch 2/25\n",
      "27412/27412 [==============================] - 11s 405us/sample - loss: 0.0364 - accuracy: 0.9950 - val_loss: 1.0899 - val_accuracy: 0.9079\n",
      "Epoch 3/25\n",
      "27412/27412 [==============================] - 11s 394us/sample - loss: 0.1101 - accuracy: 0.9899 - val_loss: 1.0562 - val_accuracy: 0.9108\n",
      "Epoch 4/25\n",
      "27412/27412 [==============================] - 11s 391us/sample - loss: 0.0336 - accuracy: 0.9961 - val_loss: 1.1165 - val_accuracy: 0.9087\n",
      "Epoch 5/25\n",
      "27412/27412 [==============================] - 11s 395us/sample - loss: 0.0353 - accuracy: 0.9959 - val_loss: 1.1333 - val_accuracy: 0.9063\n",
      "Epoch 6/25\n",
      "27412/27412 [==============================] - 11s 402us/sample - loss: 0.0357 - accuracy: 0.9961 - val_loss: 1.1785 - val_accuracy: 0.9028\n"
     ]
    }
   ],
   "source": [
    "# Early stopping to prevent overfitting of our model\n",
    "earlystopping = callbacks.EarlyStopping(monitor =\"val_loss\", \n",
    "                                        mode =\"min\", patience = 5, \n",
    "                                        restore_best_weights = True)\n",
    "\n",
    "# Running model again\n",
    "model2 = model.fit(padded, training_final, epochs=25, validation_data=(testing_padded,\n",
    "                                                                       testing_final),\n",
    "                                                                       callbacks = [earlystopping])"
   ]
  },
  {
   "cell_type": "markdown",
   "id": "4f946483",
   "metadata": {},
   "source": [
    "We can see our model now stops at 6, preventing overfitting.\n",
    "\n",
    "We can see that our accuracy stops at .9961 and our val_accuracy is .9028. Using this we can argue that our model has a prediction model that is 90% correct in predicting customer sentiment based on words in a review. "
   ]
  },
  {
   "cell_type": "code",
   "execution_count": 26,
   "id": "d1a3e823",
   "metadata": {
    "scrolled": true
   },
   "outputs": [
    {
     "data": {
      "image/png": "[encoded data removed]",
      "text/plain": [
       "<Figure size 432x288 with 1 Axes>"
      ]
     },
     "metadata": {
      "needs_background": "light"
     },
     "output_type": "display_data"
    }
   ],
   "source": [
    "# epoch vs Mean Absolute Error\n",
    "plt.plot(model1.history['loss'], label='MAE (training data)')\n",
    "plt.title('MAE vs epoch')\n",
    "plt.ylabel('MAE value')\n",
    "plt.xlabel('No. epoch')\n",
    "plt.legend(loc=\"upper left\")\n",
    "plt.show()"
   ]
  },
  {
   "cell_type": "markdown",
   "id": "7a4a0745",
   "metadata": {},
   "source": [
    "After 6 epochs we begin to drop, showing that 6 is our optimal number of tests to run"
   ]
  },
  {
   "cell_type": "code",
   "execution_count": 27,
   "id": "748415e0",
   "metadata": {},
   "outputs": [
    {
     "data": {
      "image/png": "[encoded data removed]",
      "text/plain": [
       "<Figure size 432x288 with 1 Axes>"
      ]
     },
     "metadata": {
      "needs_background": "light"
     },
     "output_type": "display_data"
    }
   ],
   "source": [
    "plt.plot(model1.history['accuracy'], label='Accuracy')\n",
    "plt.title('accuracy vs epoch')\n",
    "plt.ylabel('accuracy value')\n",
    "plt.xlabel('No. epoch')\n",
    "plt.legend(loc=\"upper left\")\n",
    "plt.show()"
   ]
  },
  {
   "cell_type": "code",
   "execution_count": 28,
   "id": "f614b2da",
   "metadata": {},
   "outputs": [
    {
     "data": {
      "text/plain": [
       "<Figure size 432x288 with 0 Axes>"
      ]
     },
     "execution_count": 28,
     "metadata": {},
     "output_type": "execute_result"
    },
    {
     "data": {
      "image/png": "[encoded data removed]",
      "text/plain": [
       "<Figure size 432x288 with 1 Axes>"
      ]
     },
     "metadata": {
      "needs_background": "light"
     },
     "output_type": "display_data"
    },
    {
     "data": {
      "image/png": "[encoded data removed]",
      "text/plain": [
       "<Figure size 432x288 with 1 Axes>"
      ]
     },
     "metadata": {
      "needs_background": "light"
     },
     "output_type": "display_data"
    },
    {
     "data": {
      "text/plain": [
       "<Figure size 432x288 with 0 Axes>"
      ]
     },
     "metadata": {},
     "output_type": "display_data"
    }
   ],
   "source": [
    "acc = model1.history['accuracy']\n",
    "val_acc = model1.history['val_accuracy']\n",
    "loss = model1.history['loss']\n",
    "val_loss = model1.history['val_loss']\n",
    "epochs=range(len(acc))\n",
    "plt.plot(epochs, acc, 'r', 'Training Accuracy')\n",
    "plt.plot(epochs, val_acc, 'b', 'Validation Accuracy')\n",
    "plt.title('Training and validation accuracy')\n",
    "plt.figure()\n",
    "plt.plot(epochs, loss, 'r', 'Training Loss')\n",
    "plt.plot(epochs, val_loss, 'b', 'Validation Loss')\n",
    "plt.title('Training and validation loss')\n",
    "plt.figure()"
   ]
  },
  {
   "cell_type": "markdown",
   "id": "bae050f9",
   "metadata": {},
   "source": [
    "## Summary and Recommendations"
   ]
  },
  {
   "cell_type": "markdown",
   "id": "1a13173c",
   "metadata": {},
   "source": [
    "Our final prediction model had an output with 90% accuracy in predicting customer sentiment. This is a good outcome and we can use that to argue that our model works and will predict customer sentiment with 90% accuracy. Fine-tuning the network allows us to zero in on the parameters that will present the most accurate and fine-tuned model. Setting up our stop point allows us to prevent overfitting, even with an increase in accuracy. The tradeoff of this is that we get the best model that we can, without needed to overfit the model. \n",
    "\n",
    "\n",
    "For our stakeholders, the accuracy of our model is a key indication that they can trust our model. Using our analysis they can better predict customer sentiment based on the predictive outcomes of our model. Based on word usage in a review, our company can predict what a customer may rate a product and take a course of action based on the prediction. Rolling our prediction model into an overall customer retention strategy can help to prevent churn or better engineer products that customers may rate positively."
   ]
  },
  {
   "cell_type": "code",
   "execution_count": null,
   "id": "ee212628",
   "metadata": {},
   "outputs": [],
   "source": []
  }
 ],
 "metadata": {
  "kernelspec": {
   "display_name": "Python 3",
   "language": "python",
   "name": "python3"
  },
  "language_info": {
   "codemirror_mode": {
    "name": "ipython",
    "version": 3
   },
   "file_extension": ".py",
   "mimetype": "text/x-python",
   "name": "python",
   "nbconvert_exporter": "python",
   "pygments_lexer": "ipython3",
   "version": "3.6.13"
  }
 },
 "nbformat": 4,
 "nbformat_minor": 5
}
